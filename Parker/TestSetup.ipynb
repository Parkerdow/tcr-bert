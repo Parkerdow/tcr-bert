{
 "cells": [
  {
   "cell_type": "code",
   "execution_count": 1,
   "metadata": {},
   "outputs": [
    {
     "name": "stdout",
     "output_type": "stream",
     "text": [
      "lets goo\n",
      "1\n"
     ]
    }
   ],
   "source": [
    "print('lets goo')\n",
    "a=1 \n",
    "print(a)"
   ]
  },
  {
   "cell_type": "markdown",
   "metadata": {},
   "source": [
    "# Trying to mess with TCR Bert\n",
    " we want to input our data and see if it can split the groups\n",
    " train on our own data and then do the SVM on our labels\n",
    " \n",
    "\n",
    "https://github.com/wukevin/tcr-bert\n",
    "\n",
    "- it would be interesting to see how much better our data is at pretraining. Maybe just use their data fdor the classification first, then dive into pretrianing on our own.\n",
    "- looks like in this pipeline they provide the ability to use the SVM to classify but also fine tune the model post pretrain\n",
    "- Data (I need to clean this up): /cellar/users/pdow/Data/MixcrOutput/20230425\n",
    "- first lets just use the pre trained model to create embeddings, then we can worry about doing our own pretraining. Im really curious to see what the embeddings look like on somthing like a UMAP\n",
    "- lets not get greedy... set it up first with the test examples"
   ]
  },
  {
   "cell_type": "code",
   "execution_count": null,
   "metadata": {},
   "outputs": [],
   "source": [
    "# Different model classes needed for different models\n",
    "from transformers import BertModel\n",
    "# This model was pretrained on MAA and TRB classification\n",
    "tcrbert_model = BertModel.from_pretrained(\"wukevin/tcr-bert-mlm-only\")"
   ]
  },
  {
   "cell_type": "code",
   "execution_count": 6,
   "metadata": {
    "vscode": {
     "languageId": "shellscript"
    }
   },
   "outputs": [
    {
     "name": "stdout",
     "output_type": "stream",
     "text": [
      "python: can't open file '/cellar/users/pdow/Projects/tcr-bert/Parker/bin/embed_and_train_classifier.py': [Errno 2] No such file or directory\n"
     ]
    }
   ],
   "source": [
    "# ran in CLI, worked. made temp file im assuming of the embeddings... need to crack it open somehow.\n",
    "python bin/embed_and_train_classifier.py example_files/glanville_np177_training_patient.tsv temp -t example_files/glanville_np177_testing_patients.tsv -c svm -g 0"
   ]
  },
  {
   "cell_type": "code",
   "execution_count": null,
   "metadata": {
    "vscode": {
     "languageId": "shellscript"
    }
   },
   "outputs": [],
   "source": []
  }
 ],
 "metadata": {
  "kernelspec": {
   "display_name": "tcrbert",
   "language": "python",
   "name": "python3"
  },
  "language_info": {
   "codemirror_mode": {
    "name": "ipython",
    "version": 3
   },
   "file_extension": ".py",
   "mimetype": "text/x-python",
   "name": "python",
   "nbconvert_exporter": "python",
   "pygments_lexer": "ipython3",
   "version": "3.9.2"
  },
  "orig_nbformat": 4
 },
 "nbformat": 4,
 "nbformat_minor": 2
}
